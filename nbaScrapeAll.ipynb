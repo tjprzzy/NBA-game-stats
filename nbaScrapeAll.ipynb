{
 "cells": [
  {
   "cell_type": "code",
   "execution_count": 1,
   "metadata": {},
   "outputs": [],
   "source": [
    "#If necessary, install BeautifulSoup4 and Pandas Packages:\n",
    "#!pip install BeautifulSoup4\n",
    "#!pip install pandas\n",
    "#!pip install tqdm\n",
    "#!pip install numpy"
   ]
  },
  {
   "cell_type": "code",
   "execution_count": 1,
   "metadata": {},
   "outputs": [],
   "source": [
    "import requests\n",
    "from bs4 import BeautifulSoup\n",
    "import pandas as pd\n",
    "import os\n",
    "import unicodedata\n",
    "import numpy\n",
    "\n",
    "from tqdm import tqdm"
   ]
  },
  {
   "cell_type": "code",
   "execution_count": 12,
   "metadata": {},
   "outputs": [],
   "source": [
    "year = 2021\n",
    "months = ['october', \n",
    "          'november',\n",
    "          'december',\n",
    "          'january',\n",
    "          'february',\n",
    "          'march',\n",
    "          'april',\n",
    "          'may',\n",
    "          'june',\n",
    "          'july',\n",
    "          'august',\n",
    "          'september'\n",
    "         ]\n",
    "\n",
    "links = []\n",
    "links_tmp = []\n",
    "for month in range(len(months)):\n",
    "    url = 'https://www.basketball-reference.com/leagues/NBA_'+str(year)+'_games-'+months[month]+'.html'\n",
    "    page = requests.get(url)\n",
    "    soup = BeautifulSoup(page.text, 'html.parser')\n",
    "    \n",
    "    links_tmp = [game['href'] for game in soup.find_all('a', text='Box Score')]\n",
    "    base_url = \"https://www.basketball-reference.com\"\n",
    "    links_tmp = [base_url + link for link in links_tmp]\n",
    "    for link in links_tmp:\n",
    "        links.append(link)"
   ]
  },
  {
   "cell_type": "code",
   "execution_count": 13,
   "metadata": {},
   "outputs": [
    {
     "name": "stderr",
     "output_type": "stream",
     "text": [
      "100%|██████████████████████████████████████████████████████████████████████████████| 1264/1264 [14:32<00:00,  1.45it/s]\n"
     ]
    }
   ],
   "source": [
    "stats = []\n",
    "with tqdm(total=len(links)) as pbar:\n",
    "    for link in range(len(links)):\n",
    "    #for link in range(150):\n",
    "        tmp = links[link]\n",
    "        page = requests.get(tmp)\n",
    "        soup = BeautifulSoup(page.text, 'html.parser')\n",
    "\n",
    "        teams = [game['href'] for game in soup.find_all('a', {'itemprop': 'name'})]\n",
    "        teams = [teams[0][7:10], teams[1][7:10]]\n",
    "\n",
    "        stats_tmp = []\n",
    "        for team in range(len(teams)):\n",
    "            basic_stats = soup.find('table',{'id': 'box-'+teams[team]+'-game-basic'})\n",
    "            adv_stats = soup.find('table',{'id': 'box-'+teams[team]+'-game-advanced'})\n",
    "\n",
    "            #Player Names\n",
    "            player_names = [[th.getText() for th in basic_stats.findAll('tr')[1:][i].findAll('th')] for i in range(len(basic_stats.findAll('tr')[1:]))]\n",
    "            player_names = player_names[1:6] + player_names[7:-1]\n",
    "            df_player_names = pd.DataFrame(player_names)\n",
    "\n",
    "            #Starters\n",
    "            starters = ['Y','Y','Y','Y','Y'] + ['N']*(len(player_names)-5)\n",
    "            df_starters = pd.DataFrame(starters)\n",
    "            \n",
    "            #Player Basic Stats\n",
    "            team_stats_basic = [[td.getText() for td in basic_stats.findAll('tr')[1:][i].findAll('td')]\n",
    "                    for i in range(len(basic_stats.findAll('tr')[1:]))]\n",
    "            team_stats_basic = team_stats_basic[1:6] + team_stats_basic[7:-1]\n",
    "            df_team_stats_basic = pd.DataFrame(team_stats_basic)\n",
    "\n",
    "            #Player Advanced Stats\n",
    "            team_stats_adv = [[td.getText() for td in adv_stats.findAll('tr')[1:][i].findAll('td')]\n",
    "                    for i in range(len(adv_stats.findAll('tr')[1:]))]\n",
    "            team_stats_adv = team_stats_adv[1:6] + team_stats_adv[7:-1]\n",
    "            df_team_stats_adv = pd.DataFrame(team_stats_adv)\n",
    "\n",
    "            #Game ID\n",
    "            game_id = links[link][47:59]\n",
    "            game_id = [game_id for i in range(len(player_names))]\n",
    "            df_game_id = pd.DataFrame(game_id)\n",
    "\n",
    "            #Team ID\n",
    "            team_name = [teams[team] for i in range(len(player_names))]\n",
    "            df_team_name = pd.DataFrame(team_name)\n",
    "\n",
    "            #Consolidating the Data:\n",
    "            stats_tmp = pd.concat([df_game_id,df_team_name,df_player_names,df_starters,df_team_stats_basic,df_team_stats_adv],axis=1)\n",
    "            stats.append(stats_tmp)\n",
    "        pbar.update(1)\n",
    "     \n",
    "    output_raw = pd.concat(stats)"
   ]
  },
  {
   "cell_type": "code",
   "execution_count": 14,
   "metadata": {},
   "outputs": [],
   "source": [
    "output = output_raw"
   ]
  },
  {
   "cell_type": "code",
   "execution_count": 15,
   "metadata": {},
   "outputs": [
    {
     "name": "stdout",
     "output_type": "stream",
     "text": [
      "            Game_ID Team                Player Starter     MP  FG FGA   FG%  \\\n",
      "0      201611010CLE  HOU          James Harden       Y  38.17  13  20  .650   \n",
      "1      201611010CLE  HOU           Eric Gordon       Y  32.98   6  13  .462   \n",
      "2      201611010CLE  HOU          Trevor Ariza       Y  31.48   4  11  .364   \n",
      "3      201611010CLE  HOU         Ryan Anderson       Y  30.52   4  12  .333   \n",
      "4      201611010CLE  HOU          Clint Capela       Y  18.52   3   5  .600   \n",
      "...             ...  ...                   ...     ...    ...  ..  ..   ...   \n",
      "32425  201706120GSW  GSW      Shaun Livingston       N  10.03   2   3  .667   \n",
      "32426  201706120GSW  GSW           Matt Barnes       N   1.07   0   0     0   \n",
      "32427  201706120GSW  GSW             Ian Clark       N   0.00   0   0     0   \n",
      "32428  201706120GSW  GSW  James Michael McAdoo       N   0.00   0   0     0   \n",
      "32429  201706120GSW  GSW          JaVale McGee       N   0.00   0   0     0   \n",
      "\n",
      "      3P 3PA  ...  DRB%  TRB%  AST% STL% BLK%  TOV%  USG% ORtg DRtg   BPM  \n",
      "0      5   9  ...  22.9  11.3  70.8  1.4  0.0   3.7  31.6  168  136  25.5  \n",
      "1      4   9  ...   8.8   3.7  12.7  3.1  0.0  13.3  20.2  109  136  -1.8  \n",
      "2      3  10  ...   4.6   2.0   8.3  0.0  0.0   8.3  16.9   98  145  -8.6  \n",
      "3      4   7  ...   4.8   8.1   4.3  0.0  0.0   0.0  17.5  118  144  -5.5  \n",
      "4      0   0  ...  23.6  13.3   7.4  0.0  5.1  13.7  17.6  119  136  -4.9  \n",
      "...   ..  ..  ...   ...   ...   ...  ...  ...   ...   ...  ...  ...   ...  \n",
      "32425  0   0  ...   0.0   0.0   0.0  0.0  0.0   0.0  14.3  153  128  -2.9  \n",
      "32426  0   0  ...   0.0   0.0   0.0  0.0  0.0     0   0.0    0  129  -4.1  \n",
      "32427  0   0  ...     0     0     0    0    0     0     0    0    0     0  \n",
      "32428  0   0  ...     0     0     0    0    0     0     0    0    0     0  \n",
      "32429  0   0  ...     0     0     0    0    0     0     0    0    0     0  \n",
      "\n",
      "[32430 rows x 39 columns]\n"
     ]
    }
   ],
   "source": [
    "#Add a header to the Data\n",
    "header = ['Game_ID','Team','Player','Starter','MP','FG','FGA','FG%','3P','3PA','3P%','FT','FTA','FT%','ORB','DRB','TRB','AST','STL','BLK','TOV','PF','PTS','P/M',\n",
    "          'del','TS%','eFG%','3PAr', 'FTr','ORB%','DRB%','TRB%','AST%','STL%','BLK%','TOV%','USG%','ORtg','DRtg','BPM']\n",
    "output.columns = header\n",
    "\n",
    "#Index Column - Reset IDs\n",
    "output = output.reset_index(drop=True)\n",
    "\n",
    "#Game_ID - OK \n",
    "#Team - OK\n",
    "#Player - Needs Special Characters altered\n",
    "output['Player'] = output['Player'].str.normalize('NFKD').str.encode('ascii', errors='ignore').str.decode('utf-8')\n",
    "\n",
    "#MP - Convert to decimal\n",
    "for row in range(len(output['MP'])):\n",
    "    if \":\" in output['MP'][row]:\n",
    "        output['MP'][row] = round(float(output['MP'][row].split(':')[0]+str(int(output['MP'][row].split(':')[1])/60)[1:]),2)\n",
    "    else:\n",
    "        output['MP'][row] = 0\n",
    "\n",
    "#Delete redundant Minutes Played (del) column:\n",
    "output = output.drop(['del'],axis=1)\n",
    "\n",
    "output = output.fillna(0)\n",
    "output = output.replace('',0)\n",
    "print(output)"
   ]
  },
  {
   "cell_type": "code",
   "execution_count": 16,
   "metadata": {},
   "outputs": [],
   "source": [
    "output.to_csv('2017stats.csv')"
   ]
  },
  {
   "cell_type": "code",
   "execution_count": 103,
   "metadata": {
    "jupyter": {
     "source_hidden": true
    }
   },
   "outputs": [],
   "source": [
    "#!pip install gspread\n",
    "#!pip install gspread_dataframe\n",
    "import gspread\n",
    "from gspread_dataframe import set_with_dataframe\n",
    "\n",
    "gc = gspread.oauth()\n",
    "sh = gc.open_by_key('1ZmvBC3wiXHROO-I2aovyW2zF9t_z-gan4oDqRP0wSHE')\n",
    "worksheet = sh.get_worksheet(0)\n",
    "\n",
    "range_of_cells = worksheet.range('A1:AN50000') #-> Select the range you want to clear\n",
    "for cell in range_of_cells:\n",
    "    cell.value = ''\n",
    "set_with_dataframe(worksheet, output)"
   ]
  }
 ],
 "metadata": {
  "kernelspec": {
   "display_name": "Python 3",
   "language": "python",
   "name": "python3"
  },
  "language_info": {
   "codemirror_mode": {
    "name": "ipython",
    "version": 3
   },
   "file_extension": ".py",
   "mimetype": "text/x-python",
   "name": "python",
   "nbconvert_exporter": "python",
   "pygments_lexer": "ipython3",
   "version": "3.7.1"
  }
 },
 "nbformat": 4,
 "nbformat_minor": 4
}
