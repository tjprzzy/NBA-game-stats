{
 "cells": [
  {
   "cell_type": "code",
   "execution_count": 9,
   "metadata": {},
   "outputs": [
    {
     "name": "stdin",
     "output_type": "stream",
     "text": [
      "----Input the Start Year:   2021\n",
      "----Input the Final Year:   2021\n"
     ]
    }
   ],
   "source": [
    "import requests\n",
    "from bs4 import BeautifulSoup\n",
    "import pandas as pd\n",
    "import unidecode\n",
    "\n",
    "def makeSoup(url):\n",
    "    page = requests.get(url)\n",
    "    soup = BeautifulSoup(page.text, 'html.parser')\n",
    "    return soup\n",
    "\n",
    "#Prompt the user to enter the years for the scrape\n",
    "start_year = input('----Input the Start Year:  ')\n",
    "stop_year = input('----Input the Final Year:  ')\n",
    "years = range(int(start_year),int(stop_year)+1)\n",
    "\n",
    "output = []\n",
    "for year in years:\n",
    "    soup = makeSoup('https://www.basketball-reference.com/leagues/NBA_'+str(year)+'_play-by-play.html')\n",
    "    posTable = soup.find('table',{'id': 'pbp_stats'})\n",
    "\n",
    "    #Pull all Stats from table\n",
    "    posData = [[td.getText() for td in posTable.findAll('tr')[1:][i].findAll('td')]\n",
    "               for i in range(len(posTable.findAll('tr')[1:]))]\n",
    "\n",
    "    #Cleaning Operations\n",
    "    posData = [item for item in posData if len(item)>0] #Remove Blank Rows\n",
    "    posData = [item for item in posData if item[3]!='TOT'] #Remove Cumulative Rows\n",
    "    posData = [[year] + item[:11] for item in posData] #Remove Unused Columns\n",
    "    for item in posData:\n",
    "        item[1] = unidecode.unidecode(item[1]).replace('*','').replace('.','')#Remove Special Characters\n",
    "        item[7] = item[7].replace('%','')\n",
    "        item[8] = item[8].replace('%','')\n",
    "        item[9] = item[9].replace('%','')\n",
    "        item[10] = item[10].replace('%','')\n",
    "        item[11] = item[11].replace('%','')\n",
    "\n",
    "    #Convert list to Pandas Dataframe\n",
    "    posData_df = pd.DataFrame(posData)\n",
    "    output.append(posData_df)\n",
    "\n",
    "output = pd.concat(output)\n",
    "header = ['Year','Player','Pos','Age','Team','Games','MP','PG%','SG%','SF%','PF%','C%']\n",
    "output.columns = header\n",
    "\n",
    "output.to_csv('posStats.csv',index=False)"
   ]
  }
 ],
 "metadata": {
  "kernelspec": {
   "display_name": "Python 3",
   "language": "python",
   "name": "python3"
  },
  "language_info": {
   "codemirror_mode": {
    "name": "ipython",
    "version": 3
   },
   "file_extension": ".py",
   "mimetype": "text/x-python",
   "name": "python",
   "nbconvert_exporter": "python",
   "pygments_lexer": "ipython3",
   "version": "3.7.1"
  }
 },
 "nbformat": 4,
 "nbformat_minor": 4
}
